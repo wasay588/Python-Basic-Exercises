{
 "cells": [
  {
   "cell_type": "code",
   "execution_count": null,
   "metadata": {},
   "outputs": [],
   "source": [
    "names = [\"Ahmad\", \"Ali\", \"Sara\", \"Ehtisham\"]\n",
    "print(names)\n",
    "print(names[0])\n",
    "print(names[1])\n",
    "print(names[2])\n",
    "print(names[3])"
   ]
  },
  {
   "cell_type": "code",
   "execution_count": null,
   "metadata": {},
   "outputs": [],
   "source": [
    "for name in names:\n",
    "    print(name + \" is a good student\")"
   ]
  },
  {
   "cell_type": "code",
   "execution_count": null,
   "metadata": {},
   "outputs": [],
   "source": [
    "vehicles = [\"helicopter\", \"Bugatti\", \"private jet\"]\n",
    "print(\"I would like to own a \" + vehicles[0])\n",
    "print(\"I love to fly in my \" + vehicles[2])\n",
    "print(\"I have a black \" + vehicles[1])"
   ]
  },
  {
   "cell_type": "code",
   "execution_count": 1,
   "metadata": {},
   "outputs": [
    {
     "name": "stdout",
     "output_type": "stream",
     "text": [
      "Hi John, you are invited to our family function.\n",
      "Hi Wilson, you are invited to our family function.\n",
      "Hi Anderson, you are invited to our family function.\n",
      "Hi Jeffrey, you are invited to our family function.\n"
     ]
    }
   ],
   "source": [
    "members = [\"John\", \"Wilson\", \"Anderson\", \"Jeffrey\"]\n",
    "for member in members:\n",
    "    print(\"Hi \" + member + \", you are invited to our family function.\")"
   ]
  },
  {
   "cell_type": "code",
   "execution_count": 2,
   "metadata": {},
   "outputs": [
    {
     "name": "stdout",
     "output_type": "stream",
     "text": [
      "Unfortunately, Anderson can't make it.\n",
      "Hi John, you are invited to our family function.\n",
      "Hi Wilson, you are invited to our family function.\n",
      "Hi Billy, you are invited to our family function.\n",
      "Hi Jeffrey, you are invited to our family function.\n"
     ]
    }
   ],
   "source": [
    "print(\"Unfortunately, \" + members[2] + \" can't make it.\")\n",
    "members[2] = 'Billy'\n",
    "for member in members:\n",
    "    print(\"Hi \" + member + \", you are invited to our family function.\")"
   ]
  },
  {
   "cell_type": "code",
   "execution_count": 3,
   "metadata": {},
   "outputs": [
    {
     "name": "stdout",
     "output_type": "stream",
     "text": [
      "We found a bigger table, so we are inviting more people!\n",
      "Hi Jofra, you are invited inn our family function.\n",
      "Hi John, you are invited inn our family function.\n",
      "Hi Smith, you are invited inn our family function.\n",
      "Hi Wilson, you are invited inn our family function.\n",
      "Hi Billy, you are invited inn our family function.\n",
      "Hi Jeffrey, you are invited inn our family function.\n",
      "Hi Billy, you are invited inn our family function.\n"
     ]
    }
   ],
   "source": [
    "print(\"We found a bigger table, so we are inviting more people!\")\n",
    "members.insert(0, \"Jofra\")\n",
    "members.insert(2, \"Smith\")\n",
    "members.append(\"Billy\")\n",
    "for member in members:\n",
    "    print(\"Hi \" + member + \", you are invited inn our family function.\")"
   ]
  },
  {
   "cell_type": "code",
   "execution_count": 4,
   "metadata": {},
   "outputs": [
    {
     "name": "stdout",
     "output_type": "stream",
     "text": [
      "Unfortunately, we can only invite two people for dinner.\n",
      "Sorry Billy, we can't invite you to dinner.\n",
      "Sorry Jeffrey, we can't invite you to dinner.\n",
      "Sorry Billy, we can't invite you to dinner.\n",
      "Sorry Wilson, we can't invite you to dinner.\n",
      "Sorry Smith, we can't invite you to dinner.\n",
      "Hi Jofra, you are still invited to our family function.\n",
      "Hi John, you are still invited to our family function.\n",
      "[]\n"
     ]
    }
   ],
   "source": [
    "print(\"Unfortunately, we can only invite two people for dinner.\")\n",
    "while len(members) > 2:\n",
    "    removed_member = members.pop()\n",
    "    print(\"Sorry \" + removed_member + \", we can't invite you to dinner.\")\n",
    "for member in members:\n",
    "    print(\"Hi \" + member + \", you are still invited to our family function.\")\n",
    "del members[0]\n",
    "del members[0]\n",
    "print(members)"
   ]
  },
  {
   "cell_type": "code",
   "execution_count": 1,
   "metadata": {},
   "outputs": [
    {
     "name": "stdout",
     "output_type": "stream",
     "text": [
      "Original list: ['Karachi', 'Lahore', 'Islamabad', 'Quetta', 'Peshawar']\n",
      "Alphabetical order: ['Islamabad', 'Karachi', 'Lahore', 'Peshawar', 'Quetta']\n",
      "Original list after sorted(): ['Karachi', 'Lahore', 'Islamabad', 'Quetta', 'Peshawar']\n",
      "Reverse alphabetical order: ['Quetta', 'Peshawar', 'Lahore', 'Karachi', 'Islamabad']\n",
      "Original list after reverse sorted(): ['Karachi', 'Lahore', 'Islamabad', 'Quetta', 'Peshawar']\n",
      "List after reverse(): ['Peshawar', 'Quetta', 'Islamabad', 'Lahore', 'Karachi']\n",
      "List after reversing again: ['Karachi', 'Lahore', 'Islamabad', 'Quetta', 'Peshawar']\n",
      "List after sort(): ['Islamabad', 'Karachi', 'Lahore', 'Peshawar', 'Quetta']\n",
      "List after reverse sort(): ['Quetta', 'Peshawar', 'Lahore', 'Karachi', 'Islamabad']\n"
     ]
    }
   ],
   "source": [
    "cities = [\"Karachi\", \"Lahore\", \"Islamabad\", \"Quetta\", \"Peshawar\"]\n",
    "\n",
    "print(\"Original list:\", cities)\n",
    "\n",
    "print(\"Alphabetical order:\", sorted(cities))\n",
    "\n",
    "print(\"Original list after sorted():\", cities)\n",
    "\n",
    "print(\"Reverse alphabetical order:\", sorted(cities, reverse=True))\n",
    "\n",
    "print(\"Original list after reverse sorted():\", cities)\n",
    "\n",
    "cities.reverse()\n",
    "print(\"List after reverse():\", cities)\n",
    "\n",
    "cities.reverse()\n",
    "print(\"List after reversing again:\", cities)\n",
    "\n",
    "cities.sort()\n",
    "print(\"List after sort():\", cities)\n",
    "\n",
    "cities.sort(reverse=True)\n",
    "print(\"List after reverse sort():\", cities)\n"
   ]
  },
  {
   "cell_type": "code",
   "execution_count": 4,
   "metadata": {},
   "outputs": [
    {
     "name": "stdout",
     "output_type": "stream",
     "text": [
      "Original list: ['Nanga Parbat', 'Television', 'France', 'America', 'Aeroplan', 'Laptop']\n",
      "List after append(): ['Nanga Parbat', 'Television', 'France', 'America', 'Aeroplan', 'Laptop', 'English']\n",
      "List after insert(): ['Nanga Parbat', 'Television', 'Germany', 'France', 'America', 'Aeroplan', 'Laptop', 'English']\n",
      "List after pop(): ['Nanga Parbat', 'Television', 'Germany', 'France', 'America', 'Aeroplan', 'Laptop']\n",
      "Popped item: English\n"
     ]
    },
    {
     "ename": "ValueError",
     "evalue": "list.remove(x): x not in list",
     "output_type": "error",
     "traceback": [
      "\u001b[1;31m---------------------------------------------------------------------------\u001b[0m",
      "\u001b[1;31mValueError\u001b[0m                                Traceback (most recent call last)",
      "Cell \u001b[1;32mIn[4], line 10\u001b[0m\n\u001b[0;32m      8\u001b[0m \u001b[38;5;28mprint\u001b[39m(\u001b[38;5;124m\"\u001b[39m\u001b[38;5;124mList after pop():\u001b[39m\u001b[38;5;124m\"\u001b[39m, items)\n\u001b[0;32m      9\u001b[0m \u001b[38;5;28mprint\u001b[39m(\u001b[38;5;124m\"\u001b[39m\u001b[38;5;124mPopped item:\u001b[39m\u001b[38;5;124m\"\u001b[39m, popped_item)\n\u001b[1;32m---> 10\u001b[0m \u001b[43mitems\u001b[49m\u001b[38;5;241;43m.\u001b[39;49m\u001b[43mremove\u001b[49m\u001b[43m(\u001b[49m\u001b[38;5;124;43m\"\u001b[39;49m\u001b[38;5;124;43mAeroplane\u001b[39;49m\u001b[38;5;124;43m\"\u001b[39;49m\u001b[43m)\u001b[49m\n\u001b[0;32m     11\u001b[0m \u001b[38;5;28mprint\u001b[39m(\u001b[38;5;124m\"\u001b[39m\u001b[38;5;124mList after remove(\u001b[39m\u001b[38;5;124m'\u001b[39m\u001b[38;5;124mTokyo\u001b[39m\u001b[38;5;124m'\u001b[39m\u001b[38;5;124m):\u001b[39m\u001b[38;5;124m\"\u001b[39m, items)\n\u001b[0;32m     12\u001b[0m items\u001b[38;5;241m.\u001b[39msort()\n",
      "\u001b[1;31mValueError\u001b[0m: list.remove(x): x not in list"
     ]
    }
   ],
   "source": [
    "items = [\"Nanga Parbat\", \"Television\", \"France\", \"America\", \"Aeroplane\", \"Laptop\"]\n",
    "print(\"Original list:\", items)\n",
    "items.append(\"English\")\n",
    "print(\"List after append():\", items)\n",
    "items.insert(2, \"Germany\")\n",
    "print(\"List after insert():\", items)\n",
    "popped_item = items.pop()\n",
    "print(\"List after pop():\", items)\n",
    "print(\"Popped item:\", popped_item)\n",
    "items.remove(\"Aeroplane\")\n",
    "print(\"List after remove('Tokyo'):\", items)\n",
    "items.sort()\n",
    "print(\"List after sort():\", items)\n",
    "print(\"Reverse alphabetical order (sorted()):\", sorted(items, reverse=True))\n",
    "print(\"Original list after sorted():\", items)\n",
    "items.reverse()\n",
    "print(\"List after reverse():\", items)\n",
    "print(\"Length of the list:\", len(items))"
   ]
  }
 ],
 "metadata": {
  "kernelspec": {
   "display_name": "Python 3",
   "language": "python",
   "name": "python3"
  },
  "language_info": {
   "codemirror_mode": {
    "name": "ipython",
    "version": 3
   },
   "file_extension": ".py",
   "mimetype": "text/x-python",
   "name": "python",
   "nbconvert_exporter": "python",
   "pygments_lexer": "ipython3",
   "version": "3.12.4"
  }
 },
 "nbformat": 4,
 "nbformat_minor": 2
}
